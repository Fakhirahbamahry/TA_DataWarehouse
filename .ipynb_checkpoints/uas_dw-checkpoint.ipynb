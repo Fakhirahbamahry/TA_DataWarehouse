{
 "cells": [
  {
   "cell_type": "code",
   "execution_count": 1,
   "metadata": {},
   "outputs": [],
   "source": [
    "import pandas as pd\n",
    "import math\n",
    "import numpy as np\n",
    "import matplotlib.pyplot as plt"
   ]
  },
  {
   "cell_type": "code",
   "execution_count": 2,
   "metadata": {},
   "outputs": [
    {
     "data": {
      "text/html": [
       "<div>\n",
       "<style scoped>\n",
       "    .dataframe tbody tr th:only-of-type {\n",
       "        vertical-align: middle;\n",
       "    }\n",
       "\n",
       "    .dataframe tbody tr th {\n",
       "        vertical-align: top;\n",
       "    }\n",
       "\n",
       "    .dataframe thead th {\n",
       "        text-align: right;\n",
       "    }\n",
       "</style>\n",
       "<table border=\"1\" class=\"dataframe\">\n",
       "  <thead>\n",
       "    <tr style=\"text-align: right;\">\n",
       "      <th></th>\n",
       "      <th>Perguruan Tinggi</th>\n",
       "      <th>NPM</th>\n",
       "      <th>Nama Mahasiswa</th>\n",
       "      <th>Lulus Semester</th>\n",
       "      <th>IPK</th>\n",
       "      <th>Alamat</th>\n",
       "      <th>No. Telp</th>\n",
       "    </tr>\n",
       "  </thead>\n",
       "  <tbody>\n",
       "    <tr>\n",
       "      <th>0</th>\n",
       "      <td>UNIVERSITAS BUNDA MULIA</td>\n",
       "      <td>12160013</td>\n",
       "      <td>ANNISA PERTIWI</td>\n",
       "      <td>7</td>\n",
       "      <td>3.25</td>\n",
       "      <td>Jl. Dakota IV RT. 005/08 No. 15 - Kec. Kemayor...</td>\n",
       "      <td>83890905155</td>\n",
       "    </tr>\n",
       "    <tr>\n",
       "      <th>1</th>\n",
       "      <td>UNIVERSITAS BUNDA MULIA</td>\n",
       "      <td>12160307</td>\n",
       "      <td>LANI PARLINA</td>\n",
       "      <td>9</td>\n",
       "      <td>2.91</td>\n",
       "      <td>Jl. Nelayan Timur RT. 007/008 No.6A Kelurahan ...</td>\n",
       "      <td>89649490185</td>\n",
       "    </tr>\n",
       "    <tr>\n",
       "      <th>2</th>\n",
       "      <td>UNIVERSITAS BUNDA MULIA</td>\n",
       "      <td>14160412</td>\n",
       "      <td>IRENE SAPHIRA</td>\n",
       "      <td>7</td>\n",
       "      <td>2.64</td>\n",
       "      <td>Jl. Rajawali SLT I - RT.015/002 Gunung Saharai...</td>\n",
       "      <td>81315901290</td>\n",
       "    </tr>\n",
       "    <tr>\n",
       "      <th>3</th>\n",
       "      <td>UNIVERSITAS BUNDA MULIA</td>\n",
       "      <td>14160447</td>\n",
       "      <td>VERA SORAYA</td>\n",
       "      <td>8</td>\n",
       "      <td>3.26</td>\n",
       "      <td>Jl. Kali Anyar X Gang V - RT. 006/06 No. 8 Kel...</td>\n",
       "      <td>83872378022</td>\n",
       "    </tr>\n",
       "    <tr>\n",
       "      <th>4</th>\n",
       "      <td>UNIVERSITAS BUNDA MULIA</td>\n",
       "      <td>14160449</td>\n",
       "      <td>AYUMI TAMBUNAN</td>\n",
       "      <td>7</td>\n",
       "      <td>3.52</td>\n",
       "      <td>Jl. Cempaka 1 Blok T-27 No.1-A RT.001/030 Kel....</td>\n",
       "      <td>89672079888</td>\n",
       "    </tr>\n",
       "    <tr>\n",
       "      <th>...</th>\n",
       "      <td>...</td>\n",
       "      <td>...</td>\n",
       "      <td>...</td>\n",
       "      <td>...</td>\n",
       "      <td>...</td>\n",
       "      <td>...</td>\n",
       "      <td>...</td>\n",
       "    </tr>\n",
       "    <tr>\n",
       "      <th>97</th>\n",
       "      <td>INSTITUT ILMU SOSIAL DAN MANAJEMEN STIAMI</td>\n",
       "      <td>CA116111085</td>\n",
       "      <td>RAOUL FAUZI AKBAR</td>\n",
       "      <td>9</td>\n",
       "      <td>3.10</td>\n",
       "      <td>Gang. Musholla Nurul Anwar, No.9 B RT,001/RW00...</td>\n",
       "      <td>83883255057</td>\n",
       "    </tr>\n",
       "    <tr>\n",
       "      <th>98</th>\n",
       "      <td>INSTITUT ILMU SOSIAL DAN MANAJEMEN STIAMI</td>\n",
       "      <td>CA116111094</td>\n",
       "      <td>FAKHRI MUHAMMAD</td>\n",
       "      <td>7</td>\n",
       "      <td>3.71</td>\n",
       "      <td>Jl. Sei Silau LK. VI Kelurahan Tebing Kisaran ...</td>\n",
       "      <td>82277455757</td>\n",
       "    </tr>\n",
       "    <tr>\n",
       "      <th>99</th>\n",
       "      <td>INSTITUT ILMU SOSIAL DAN MANAJEMEN STIAMI</td>\n",
       "      <td>CA116111095</td>\n",
       "      <td>WAHYU ANGGRAINI</td>\n",
       "      <td>8</td>\n",
       "      <td>3.98</td>\n",
       "      <td>Kp. Malaka I Rt.001/Rw.012 No.45 Kel. Rorotan,...</td>\n",
       "      <td>83895869916</td>\n",
       "    </tr>\n",
       "    <tr>\n",
       "      <th>100</th>\n",
       "      <td>INSTITUT ILMU SOSIAL DAN MANAJEMEN STIAMI</td>\n",
       "      <td>CA216111018</td>\n",
       "      <td>RICA DWI RAHMAWATI</td>\n",
       "      <td>7</td>\n",
       "      <td>3.83</td>\n",
       "      <td>JL.SIAGA 12 KP.BUGIS RT.011 RW.03 N0.23C CEMPA...</td>\n",
       "      <td>83890877850</td>\n",
       "    </tr>\n",
       "    <tr>\n",
       "      <th>101</th>\n",
       "      <td>INSTITUT ILMU SOSIAL DAN MANAJEMEN STIAMI</td>\n",
       "      <td>CB016111059</td>\n",
       "      <td>FIKRI MAULANA</td>\n",
       "      <td>7</td>\n",
       "      <td>3.24</td>\n",
       "      <td>Desa. Puncel, RT.3/II Kec. Dukuhseti Kab. Pati...</td>\n",
       "      <td>82225837146</td>\n",
       "    </tr>\n",
       "  </tbody>\n",
       "</table>\n",
       "<p>102 rows × 7 columns</p>\n",
       "</div>"
      ],
      "text/plain": [
       "                               Perguruan Tinggi          NPM  \\\n",
       "0                       UNIVERSITAS BUNDA MULIA     12160013   \n",
       "1                       UNIVERSITAS BUNDA MULIA     12160307   \n",
       "2                       UNIVERSITAS BUNDA MULIA     14160412   \n",
       "3                       UNIVERSITAS BUNDA MULIA     14160447   \n",
       "4                       UNIVERSITAS BUNDA MULIA     14160449   \n",
       "..                                          ...          ...   \n",
       "97    INSTITUT ILMU SOSIAL DAN MANAJEMEN STIAMI  CA116111085   \n",
       "98    INSTITUT ILMU SOSIAL DAN MANAJEMEN STIAMI  CA116111094   \n",
       "99    INSTITUT ILMU SOSIAL DAN MANAJEMEN STIAMI  CA116111095   \n",
       "100   INSTITUT ILMU SOSIAL DAN MANAJEMEN STIAMI  CA216111018   \n",
       "101   INSTITUT ILMU SOSIAL DAN MANAJEMEN STIAMI  CB016111059   \n",
       "\n",
       "         Nama Mahasiswa  Lulus Semester   IPK  \\\n",
       "0        ANNISA PERTIWI               7  3.25   \n",
       "1          LANI PARLINA               9  2.91   \n",
       "2         IRENE SAPHIRA               7  2.64   \n",
       "3           VERA SORAYA               8  3.26   \n",
       "4        AYUMI TAMBUNAN               7  3.52   \n",
       "..                  ...             ...   ...   \n",
       "97    RAOUL FAUZI AKBAR               9  3.10   \n",
       "98      FAKHRI MUHAMMAD               7  3.71   \n",
       "99      WAHYU ANGGRAINI               8  3.98   \n",
       "100  RICA DWI RAHMAWATI               7  3.83   \n",
       "101       FIKRI MAULANA               7  3.24   \n",
       "\n",
       "                                                Alamat     No. Telp  \n",
       "0    Jl. Dakota IV RT. 005/08 No. 15 - Kec. Kemayor...  83890905155  \n",
       "1    Jl. Nelayan Timur RT. 007/008 No.6A Kelurahan ...  89649490185  \n",
       "2    Jl. Rajawali SLT I - RT.015/002 Gunung Saharai...  81315901290  \n",
       "3    Jl. Kali Anyar X Gang V - RT. 006/06 No. 8 Kel...  83872378022  \n",
       "4    Jl. Cempaka 1 Blok T-27 No.1-A RT.001/030 Kel....  89672079888  \n",
       "..                                                 ...          ...  \n",
       "97   Gang. Musholla Nurul Anwar, No.9 B RT,001/RW00...  83883255057  \n",
       "98   Jl. Sei Silau LK. VI Kelurahan Tebing Kisaran ...  82277455757  \n",
       "99   Kp. Malaka I Rt.001/Rw.012 No.45 Kel. Rorotan,...  83895869916  \n",
       "100  JL.SIAGA 12 KP.BUGIS RT.011 RW.03 N0.23C CEMPA...  83890877850  \n",
       "101  Desa. Puncel, RT.3/II Kec. Dukuhseti Kab. Pati...  82225837146  \n",
       "\n",
       "[102 rows x 7 columns]"
      ]
     },
     "execution_count": 2,
     "metadata": {},
     "output_type": "execute_result"
    }
   ],
   "source": [
    "data = pd.read_csv(\"DatasetMahasiswa.csv\")\n",
    "data"
   ]
  },
  {
   "cell_type": "code",
   "execution_count": 3,
   "metadata": {},
   "outputs": [],
   "source": [
    "npm = data['NPM'].unique()\n",
    "nama = data['Nama Mahasiswa'].unique()\n",
    "ipk = data['IPK'].unique()\n",
    "univ = data['Perguruan Tinggi'].unique()\n",
    "semester = data['Lulus Semester'].unique()"
   ]
  },
  {
   "cell_type": "code",
   "execution_count": 4,
   "metadata": {},
   "outputs": [
    {
     "data": {
      "text/plain": [
       "count                                                   102\n",
       "unique                                                  102\n",
       "top       Jl. Rajawali SLT I - RT.015/002 Gunung Saharai...\n",
       "freq                                                      1\n",
       "Name: Alamat, dtype: object"
      ]
     },
     "execution_count": 4,
     "metadata": {},
     "output_type": "execute_result"
    }
   ],
   "source": [
    "data['Alamat'].describe()"
   ]
  },
  {
   "cell_type": "code",
   "execution_count": 5,
   "metadata": {
    "scrolled": true
   },
   "outputs": [
    {
     "data": {
      "text/plain": [
       "array(['ANNISA PERTIWI', 'LANI PARLINA', 'IRENE SAPHIRA', 'VERA SORAYA',\n",
       "       'AYUMI TAMBUNAN', 'FREDRIK MOSES YOHANES SANAKY', 'DEVI NATASIA',\n",
       "       'VANESSA', 'MERLINE HUANGCY', 'ALICIA', 'PUTRI RAMADANIAR',\n",
       "       'CHRISTI YULITA', 'ULYA QISTI RACHMANI', 'ANDRE PRANOWO',\n",
       "       'ABHI SENO MONIZAR', 'MAWAR AHMALIA FAUZIAH',\n",
       "       'AFIQOH NUR SOFIARNI', 'YULIAWANTI GINARIS', 'RINA KARLINA',\n",
       "       'WINALDA TUZZAHRA HERWINAWAWI', 'MARLIANI DEVITA',\n",
       "       'MILA MINCHATUL MAULA', 'JAKA PURNAMA', 'NOLA WAHDINI FAJRIANI',\n",
       "       'DINAR SEKAR SEMESTA', 'ALMA SUCI PUTRI. A',\n",
       "       'RISKA BELLA PERMATASARI', 'FUJIKA LESTARI', 'DEVI RATNADILLA',\n",
       "       'EVA SORAYA', 'FITRI YANI', 'ABDINA WAHYUDI', 'CITRA DELIMA',\n",
       "       'DESTIAR RAMADHANTIE. S', 'INTAN PERMATA DEWI', 'NENENG RAHMIATI',\n",
       "       'PAMILA KHANSA', 'RISTAK FAIDATUN NISAK', 'SAHABUDIN LETSOIN',\n",
       "       'WAHYU DWI TRIYANI', 'MEITIARA NANDA HERISETIANIS',\n",
       "       'CARISSA SOTIA', 'MARWAH ANISYA', 'SUCI LIHUNA YANTO',\n",
       "       'NI LUH EVA ARDONIS', 'MADE AGUS FEBRI SETIAWAN',\n",
       "       'PUTU AYU KRISNA PRATIWI', 'ALFIENA PUJI KUSUMA DEWANTI',\n",
       "       'MEISYA VIOLETA SUNARGO', 'JIHDANU RISDAN', 'KARIMAH', 'HARUN',\n",
       "       'NANDAR', 'NAFARIN AHADIYANTI', 'MUHAMAD HIFDZI MUZAKKI',\n",
       "       'SITI MARDIAH', 'SUNARTO', 'NADIRAH', 'MUSTAFIDUL HIDAYAT',\n",
       "       'M. TEGUH NUANSAH', 'NIA RIZKI APRIANI', 'TENTI SELY NOVIANTIKA',\n",
       "       'ANISAH SABILLAH', 'MUHAMAD HENDI SUHENDI', 'LUTFIATUAN FUADIAH',\n",
       "       'YUSTARI ANGGRAENI', \"DWI ULIN NI'MAH\", 'MUHAMMAD ASNAWI KHOLIL',\n",
       "       'DANI AZKIYAK', 'AFLAKULLOH AL MUWAFFAQ', 'SUKMA WAHYU HIDAYAT',\n",
       "       'ANGGRAENI KUSUMADEWI', \"LIYA ULFATUS SA'IDAH\",\n",
       "       'NURUL AKBAR TANJUNG', 'GRACE NATALIA KAREN HAPUKH',\n",
       "       'DANA DWI LESTARI PUTRI', 'ASTRI KHAIRUN NISA', 'YOVI FRIANGGA',\n",
       "       'ROMARIO', 'ROSA MARIA ANJELINA DHONE',\n",
       "       'ENO MARIA YOHANA ANDRIANI', 'MARIA ANTONINA A POLU',\n",
       "       'METRI ROSA ARISANDI', 'LUTFIA NUR OCTAVIANI', 'NENG YULIAWATI',\n",
       "       'DINDA STEVANY MUHEA', 'DINI IMBAR SARI', 'NUR ANISA',\n",
       "       'CELLIN PRISELLIA GABRIELA W', 'NOVITA ROSALINA', 'REZKY PRATAMA',\n",
       "       'RINA ANANDA MAHARANI', 'JENNI NURHAITI', 'ANNISA HANIFAH',\n",
       "       'SENI HELMI', 'RACHER TIMOTIUS ROTINSULU', 'KEVIN RAMADHAN SAGALA',\n",
       "       'RAOUL FAUZI AKBAR', 'FAKHRI MUHAMMAD', 'WAHYU ANGGRAINI',\n",
       "       'RICA DWI RAHMAWATI', 'FIKRI MAULANA'], dtype=object)"
      ]
     },
     "execution_count": 5,
     "metadata": {},
     "output_type": "execute_result"
    }
   ],
   "source": [
    "nama"
   ]
  },
  {
   "cell_type": "code",
   "execution_count": 6,
   "metadata": {},
   "outputs": [
    {
     "data": {
      "text/plain": [
       "array([3.25, 2.91, 2.64, 3.26, 3.52, 3.14, 3.58, 2.5 , 3.33, 2.89, 3.32,\n",
       "       3.15, 3.16, 2.94, 1.33, 3.4 , 3.7 , 3.74, 3.2 , 3.6 , 3.34, 3.39,\n",
       "       2.86, 3.51, 3.59, 3.28, 3.23, 3.8 , 3.17, 3.66, 3.44, 3.71, 3.62,\n",
       "       3.56, 3.27, 3.3 , 3.55, 3.91, 3.11, 3.22, 3.5 , 3.29, 3.38, 3.35,\n",
       "       3.49, 2.79, 3.31, 3.84, 3.63, 3.78, 3.48, 3.68, 3.37, 3.42, 3.53,\n",
       "       3.75, 3.64, 3.54, 3.41, 3.  , 2.76, 3.67, 2.97, 3.87, 3.1 , 3.98,\n",
       "       3.83, 3.24])"
      ]
     },
     "execution_count": 6,
     "metadata": {},
     "output_type": "execute_result"
    }
   ],
   "source": [
    "ipk"
   ]
  },
  {
   "cell_type": "code",
   "execution_count": 7,
   "metadata": {
    "scrolled": true
   },
   "outputs": [
    {
     "data": {
      "text/plain": [
       "array(['UNIVERSITAS BUNDA MULIA', 'UNIVERSITAS INDRAPRASTA PGRI',\n",
       "       'UNIVERSITAS BAKRIE', 'UNIVERSITAS TRILOGI',\n",
       "       'UNIVERSITAS PRASETIYA MULYA', 'INSTITUT TEKNOLOGI INDONESIA',\n",
       "       'INSTITUT KEU PERBANKAN DAN INF ASIA PERBANAS',\n",
       "       'INSTITUT BISNIS NUSANTARA',\n",
       "       'INSTITUT TEKNOLOGI DAN BISNIS KALBIS',\n",
       "       'INSTITUT BISNIS DAN MULTIMEDIA ASMI JAKARTA',\n",
       "       ' INSTITUT ILMU SOSIAL DAN MANAJEMEN STIAMI'], dtype=object)"
      ]
     },
     "execution_count": 7,
     "metadata": {},
     "output_type": "execute_result"
    }
   ],
   "source": [
    "univ"
   ]
  },
  {
   "cell_type": "code",
   "execution_count": 8,
   "metadata": {},
   "outputs": [
    {
     "data": {
      "text/plain": [
       "array([ 7,  9,  8, 10], dtype=int64)"
      ]
     },
     "execution_count": 8,
     "metadata": {},
     "output_type": "execute_result"
    }
   ],
   "source": [
    "semester"
   ]
  },
  {
   "cell_type": "code",
   "execution_count": 9,
   "metadata": {},
   "outputs": [
    {
     "data": {
      "text/html": [
       "<div>\n",
       "<style scoped>\n",
       "    .dataframe tbody tr th:only-of-type {\n",
       "        vertical-align: middle;\n",
       "    }\n",
       "\n",
       "    .dataframe tbody tr th {\n",
       "        vertical-align: top;\n",
       "    }\n",
       "\n",
       "    .dataframe thead th {\n",
       "        text-align: right;\n",
       "    }\n",
       "</style>\n",
       "<table border=\"1\" class=\"dataframe\">\n",
       "  <thead>\n",
       "    <tr style=\"text-align: right;\">\n",
       "      <th></th>\n",
       "      <th>Perguruan Tinggi</th>\n",
       "      <th>NPM</th>\n",
       "      <th>Nama Mahasiswa</th>\n",
       "      <th>Lulus Semester</th>\n",
       "      <th>IPK</th>\n",
       "      <th>Alamat</th>\n",
       "      <th>No. Telp</th>\n",
       "    </tr>\n",
       "  </thead>\n",
       "  <tbody>\n",
       "    <tr>\n",
       "      <th>0</th>\n",
       "      <td>UNIVERSITAS BUNDA MULIA</td>\n",
       "      <td>12160013</td>\n",
       "      <td>ANNISA PERTIWI</td>\n",
       "      <td>7</td>\n",
       "      <td>3.25</td>\n",
       "      <td>Jl. Dakota IV RT. 005/08 No. 15 - Kec. Kemayor...</td>\n",
       "      <td>83890905155</td>\n",
       "    </tr>\n",
       "    <tr>\n",
       "      <th>1</th>\n",
       "      <td>UNIVERSITAS BUNDA MULIA</td>\n",
       "      <td>12160307</td>\n",
       "      <td>LANI PARLINA</td>\n",
       "      <td>9</td>\n",
       "      <td>2.91</td>\n",
       "      <td>Jl. Nelayan Timur RT. 007/008 No.6A Kelurahan ...</td>\n",
       "      <td>89649490185</td>\n",
       "    </tr>\n",
       "    <tr>\n",
       "      <th>2</th>\n",
       "      <td>UNIVERSITAS BUNDA MULIA</td>\n",
       "      <td>14160412</td>\n",
       "      <td>IRENE SAPHIRA</td>\n",
       "      <td>7</td>\n",
       "      <td>2.64</td>\n",
       "      <td>Jl. Rajawali SLT I - RT.015/002 Gunung Saharai...</td>\n",
       "      <td>81315901290</td>\n",
       "    </tr>\n",
       "    <tr>\n",
       "      <th>3</th>\n",
       "      <td>UNIVERSITAS BUNDA MULIA</td>\n",
       "      <td>14160447</td>\n",
       "      <td>VERA SORAYA</td>\n",
       "      <td>8</td>\n",
       "      <td>3.26</td>\n",
       "      <td>Jl. Kali Anyar X Gang V - RT. 006/06 No. 8 Kel...</td>\n",
       "      <td>83872378022</td>\n",
       "    </tr>\n",
       "    <tr>\n",
       "      <th>4</th>\n",
       "      <td>UNIVERSITAS BUNDA MULIA</td>\n",
       "      <td>14160449</td>\n",
       "      <td>AYUMI TAMBUNAN</td>\n",
       "      <td>7</td>\n",
       "      <td>3.52</td>\n",
       "      <td>Jl. Cempaka 1 Blok T-27 No.1-A RT.001/030 Kel....</td>\n",
       "      <td>89672079888</td>\n",
       "    </tr>\n",
       "  </tbody>\n",
       "</table>\n",
       "</div>"
      ],
      "text/plain": [
       "          Perguruan Tinggi       NPM  Nama Mahasiswa  Lulus Semester   IPK  \\\n",
       "0  UNIVERSITAS BUNDA MULIA  12160013  ANNISA PERTIWI               7  3.25   \n",
       "1  UNIVERSITAS BUNDA MULIA  12160307    LANI PARLINA               9  2.91   \n",
       "2  UNIVERSITAS BUNDA MULIA  14160412   IRENE SAPHIRA               7  2.64   \n",
       "3  UNIVERSITAS BUNDA MULIA  14160447     VERA SORAYA               8  3.26   \n",
       "4  UNIVERSITAS BUNDA MULIA  14160449  AYUMI TAMBUNAN               7  3.52   \n",
       "\n",
       "                                              Alamat     No. Telp  \n",
       "0  Jl. Dakota IV RT. 005/08 No. 15 - Kec. Kemayor...  83890905155  \n",
       "1  Jl. Nelayan Timur RT. 007/008 No.6A Kelurahan ...  89649490185  \n",
       "2  Jl. Rajawali SLT I - RT.015/002 Gunung Saharai...  81315901290  \n",
       "3  Jl. Kali Anyar X Gang V - RT. 006/06 No. 8 Kel...  83872378022  \n",
       "4  Jl. Cempaka 1 Blok T-27 No.1-A RT.001/030 Kel....  89672079888  "
      ]
     },
     "execution_count": 9,
     "metadata": {},
     "output_type": "execute_result"
    }
   ],
   "source": [
    "data.head()"
   ]
  },
  {
   "cell_type": "code",
   "execution_count": 10,
   "metadata": {},
   "outputs": [],
   "source": [
    "import mysql.connector\n",
    "db = mysql.connector.connect(host=\"localhost\",user=\"root\",passwd=\"\")\n",
    "cursor = db.cursor()"
   ]
  },
  {
   "cell_type": "code",
   "execution_count": 11,
   "metadata": {},
   "outputs": [],
   "source": [
    "cursor.execute(\"DROP DATABASE if exists datamhs\")\n",
    "cursor.execute(\"CREATE DATABASE datamhs\")\n",
    "cursor.execute(\"use datamhs\")"
   ]
  },
  {
   "cell_type": "code",
   "execution_count": 12,
   "metadata": {},
   "outputs": [],
   "source": [
    "cursor.execute(\"DROP TABLE if exists univ\")\n",
    "cursor.execute(\"DROP TABLE if exists mahasiswa\")\n",
    "cursor.execute(\"DROP TABLE if exists data_mhs\")\n",
    "cursor.execute(\"create table univ(id_univ int primary key, nama_univ varchar(50) not null)\")\n",
    "cursor.execute(\"create table mahasiswa(id_mhs int primary key, npm int not null, nama varchar(255) not null, alamat varchar(255) not null, no_tlp int not null)\")\n",
    "cursor.execute(\"create table data_mhs(id_data int primary key, semester int not null, ipk int not null, id_univ int not null, id_mhs int not null)\")"
   ]
  },
  {
   "cell_type": "code",
   "execution_count": 13,
   "metadata": {},
   "outputs": [],
   "source": [
    "univ = []\n",
    "mahasiswa = []\n",
    "data_mhs = []\n",
    "\n",
    "for i, j in data.iterrows():\n",
    "    if j[0] not in univ:\n",
    "        univ.append(j[0])\n",
    "    \n",
    "    u = -1\n",
    "    for index,values in enumerate(univ):\n",
    "        if values == j[0]:\n",
    "            u = index+1\n",
    "            break\n",
    "    \n",
    "    \n",
    "    if [j[1], j[2], j[5], j[6]] not in mahasiswa:\n",
    "        mahasiswa.append([j[1], j[2], j[5], j[6]])\n",
    "    \n",
    "    m = -1\n",
    "    for index, values in enumerate(mahasiswa):\n",
    "        if values[0] == j[1]:\n",
    "            m = index+1\n",
    "            break\n",
    "    \n",
    "    if [j[3], j[4], u, m] not in data_mhs:\n",
    "        data_mhs.append([j[3], j[4], u, m])"
   ]
  },
  {
   "cell_type": "code",
   "execution_count": 14,
   "metadata": {},
   "outputs": [],
   "source": [
    "cursor.execute(\"delete from univ\")\n",
    "for index, i in enumerate(univ): \n",
    "    cursor.execute(\"INSERT INTO UNIV VALUES(\" + str(index+1) + \", '\" + str(i) + \"')\")\n",
    "    db.commit"
   ]
  },
  {
   "cell_type": "code",
   "execution_count": 15,
   "metadata": {
    "scrolled": true
   },
   "outputs": [
    {
     "name": "stdout",
     "output_type": "stream",
     "text": [
      "                                           - Nama Perguruan Tinggi -                                    \n",
      "[(1, 'UNIVERSITAS BUNDA MULIA'), (2, 'UNIVERSITAS INDRAPRASTA PGRI'), (3, 'UNIVERSITAS BAKRIE'), (4, 'UNIVERSITAS TRILOGI'), (5, 'UNIVERSITAS PRASETIYA MULYA'), (6, 'INSTITUT TEKNOLOGI INDONESIA'), (7, 'INSTITUT KEU PERBANKAN DAN INF ASIA PERBANAS'), (8, 'INSTITUT BISNIS NUSANTARA'), (9, 'INSTITUT TEKNOLOGI DAN BISNIS KALBIS'), (10, 'INSTITUT BISNIS DAN MULTIMEDIA ASMI JAKARTA'), (11, ' INSTITUT ILMU SOSIAL DAN MANAJEMEN STIAMI')]\n",
      "------------------------------------------------------------------------------------------------------------------------\n"
     ]
    }
   ],
   "source": [
    "cursor.execute(\"SELECT * FROM UNIV\")\n",
    "\n",
    "univ = []\n",
    "for row in cursor.fetchall():\n",
    "    univ.append(row)\n",
    "print(\"                                           - Nama Perguruan Tinggi -                                    \")\n",
    "print(univ)\n",
    "print(\"------------------------------------------------------------------------------------------------------------------------\")"
   ]
  },
  {
   "cell_type": "code",
   "execution_count": 16,
   "metadata": {
    "scrolled": true
   },
   "outputs": [],
   "source": [
    "cursor.execute(\"delete from mahasiswa\")\n",
    "for i,j in enumerate(mahasiswa):\n",
    "    cursor.execute(\"INSERT INTO MAHASISWA VALUES(\" + str(i+1) + \", '\" + str(j[0]) + \"', '\" + str(j[1]).replace(\"'\",'') + \"', '\" + str(j[2]) + \"', '\" + str(j[3]) + \"')\")\n",
    "    db.commit"
   ]
  },
  {
   "cell_type": "code",
   "execution_count": 17,
   "metadata": {
    "scrolled": false
   },
   "outputs": [
    {
     "name": "stdout",
     "output_type": "stream",
     "text": [
      "                                           - Nama Perguruan Tinggi -                                    \n",
      "[['12160013', 'ANNISA PERTIWI', 'Jl. Dakota IV RT. 005/08 No. 15 - Kec. Kemayoran Kelurahan Kebon Kosong', 83890905155], ['12160307', 'LANI PARLINA', 'Jl. Nelayan Timur RT. 007/008 No.6A Kelurahan Pinangsia - Kec. Taman Sari', 89649490185], ['14160412', 'IRENE SAPHIRA', 'Jl. Rajawali SLT I - RT.015/002 Gunung Saharai Utara Sawah Besar', 81315901290], ['14160447', 'VERA SORAYA', 'Jl. Kali Anyar X Gang V - RT. 006/06 No. 8 Kelurahan Kalianyar - Kec. Tambora', 83872378022], ['14160449', 'AYUMI TAMBUNAN', 'Jl. Cempaka 1 Blok T-27 No.1-A RT.001/030 Kel. Teluk Pulung - Bekasi Utara', 89672079888], ['14160450', 'FREDRIK MOSES YOHANES SANAKY', 'Jl. Lambok V No. 103 - RT.002/007 Cibodasari', 81284938943], ['11170184', 'DEVI NATASIA', 'Jln. Pademangan Timur 7 Gg. 37 No. 8 RT.005 / 010', 89668583514], ['11170185', 'VANESSA', 'Bantar Kawung Kel. Nagasari RT. 002/005', 89669981222], ['14170316', 'MERLINE HUANGCY', 'Jl. Krendang Barat No. 1B RT. 11 RW 04', 82122777351], ['14170318', 'ALICIA', 'Jl. Ancol Selatan RT. 019/001 No. 75 Tanjung Priok', 895333243375], ['14170324', 'PUTRI RAMADANIAR', 'Jln. Swadarma Raya, Mairin RT. 009 / 003 No. 68 Ulujami - Pesanggrahan', 8819926310], ['14170348', 'CHRISTI YULITA', 'Jln. Setia Kawan No. 12 Pamulang Barat', 81511133646], ['201601500082', 'ULYA QISTI RACHMANI', 'Jl. Centex Gg. Mebel RT.03/03 No. 51', 85710391052], ['201643500195', 'ANDRE PRANOWO', 'Jl. Sekasih Gg. Mushollah RT.05/09 Kel. Tanah Baru Kec. Beji', 895372129484], ['201643500198', 'ABHI SENO MONIZAR', 'JL, FATAHILLAH II RT.04/09 KEL. TANAH BARU DEPOK', 89657425668], ['201646500541', 'MAWAR AHMALIA FAUZIAH', 'Jl. Citatah Dalam RT.06/13 Kel. Ciriung Kec.Cibinong', 8975445296], ['1161001069', 'AFIQOH NUR SOFIARNI', 'Jalan Sulawesi No 68 Kel. Bendan Kergon Kec. Pekalongan Barat RT/RW : 06/16', 8156921356], ['1161002046', 'YULIAWANTI GINARIS', 'Jl. Cibubur Bulak Ringin 4 No 129 RT 7 RW 3', 882138696791], ['1161002047', 'RINA KARLINA', 'Jl. Sesama, Gg. H. Dalim, Pulo Gadung RT 013 RW 001, Kelurahan Pulo Gadung, Kecamatan Pulo Gadung Jakarta Timur Kode Pos 13260', 89655665651], ['1161003239', 'WINALDA TUZZAHRA HERWINAWAWI', 'Jl.Duri Selatan VI Dalam Rt.08/06 Tambora', 81297649976], ['1161003240', 'MARLIANI DEVITA', 'Jl. Kembang Beji No. 34 RT/RW 004/013 Kel. Beji, Kec. Beji', 8992889895], ['1161003241', 'MILA MINCHATUL MAULA', 'blok.cilet ds.karanganyar kec.kandanghaur kab.indramayu rt/rw 01/08 kode pos 45254', 81324678187], ['1162004022', 'JAKA PURNAMA', 'jalan lintas sumatra talang baru desa bumi nabung kec. abung barat rt/rw 003/001', 85311501855], ['1162004023', 'NOLA WAHDINI FAJRIANI', 'Griya Bukit Jaya Gn. Putri Bogor', 81511244700], ['16102142', 'DINAR SEKAR SEMESTA', 'JALAN MENTENG ATAS SELATAN I RT005/012 NO 16 ,KELURAHAN MENTENG ATAS ,KECAMATAN SETIABUDI, KODE POS 12960', 82298555422], ['16102173', 'ALMA SUCI PUTRI. A', 'Jln.tanjung panginpuan no.17 palu kecamatan palu selatan kelurahan tatura utara', 81370747764], ['16102177', 'RISKA BELLA PERMATASARI', 'Jl. Kemang-Parung Gg.PWRI Komp. Permatasari Blok A2 No.08', 85775474969], ['16103020', 'FUJIKA LESTARI', 'Desa Gunung Besar, Kecamatan Arma Jaya, Bengkulu Utara.', 85758120250], ['16103022', 'DEVI RATNADILLA', 'DESA.RAMBATAN KULON RT.22 RW.03 BLOK.NINGKONG KEC.LOHBENER KAB.INDRAMAYU', 81947266771], ['16104012', 'EVA SORAYA', 'Jl. Waru Gg. Molen Rt8/3 Kel. Gedong Kec. Pasar Rebo Jakarta Timur', 83894344760], ['16104013', 'FITRI YANI', 'Jl. Pratu M.Yusuf, samping kantor pos lama Rt.03/01 Lk.03 Kel kalianda', 87805140318], ['16104014', 'ABDINA WAHYUDI', 'ds.waru blok.lor rt:11 rw:03 kecamatan:lohbener kebupaten:indramayu', 89699825127], ['16105031', 'CITRA DELIMA', 'Perum Mayang Pratama Blok B 3 No 106 Rt 03 / Rw 08 Kelurahan Mustika sari Kecamatan Mustika Jaya Bekasi', 89681988739], ['16105032', 'DESTIAR RAMADHANTIE. S', 'Perumahan Bojong Depok Baru II Blok I.H No 5D Rt 09/17 Kel.Sukahati Kec.Cibinong Bogor', 82113591321], ['16105033', 'INTAN PERMATA DEWI', 'jalan bulak tinggi no.2 rt08 rw016 kelurahan jatirahayu kecamatan pondok melati', 8983369370], ['16105035', 'NENENG RAHMIATI', 'Kp petukangan rt 012/04 Rawa Terate,Cakung,Jaktim', 89660036495], ['16105036', 'PAMILA KHANSA', 'Jl.Mawar Rt 017 Rw 09 No 28. Kelurahan: Kelapa dua wetan, Kecamatan: Ciracas', 81806835794], ['16105037', 'RISTAK FAIDATUN NISAK', 'KAMPUNG GUSTI KB PALA RT/RW 010/014 kelurahan pejagalan kecamatan penjaringan', 83897107334], ['16105038', 'SAHABUDIN LETSOIN', 'dusun fair rt 03 tual pulau dullah selatan', 8128409571], ['16105039', 'WAHYU DWI TRIYANI', 'rt 001 rw 003 kam.moris jaya, kec.banjar agung, kab.tulang bawang', 85767063703], ['16106023', 'MEITIARA NANDA HERISETIANIS', 'Jl.Juned no.3 Rt 04.Rw 02,Karanganyar', 89607103225], ['16108033', 'CARISSA SOTIA', 'Jalan Manunggal Bakti Rt.011 Rw.011 No.25, Kelurahan Kalisari, Kecamatan Pasar Rebo', 81384728331], ['16109022', 'MARWAH ANISYA', 'kp.ciheuleut rt05/06 kelurahan cibuluh kecamatan bogor utara', 8999550237], ['16117048', 'SUCI LIHUNA YANTO', 'Jl. H. Kamad No. 39 RT/003 RW/003 Kel: Pondok Bambu Kec: Duren Sawit', 895339018207], ['131161001', 'NI LUH EVA ARDONIS', 'Jl. Sidakarya, Banjar Dinas Kubu, Desa Kubu, Kecamatan Kubu', 81999124431], ['133161001', 'MADE AGUS FEBRI SETIAWAN', 'Jalan Imam Bonjol No.36, Singaraja.', 87762380733], ['135161001', 'PUTU AYU KRISNA PRATIWI', 'Jalan Rajawali gang V no 31B Negara, Bali', 85935055024], ['135161002', 'ALFIENA PUJI KUSUMA DEWANTI', 'Jl. Raya Magetan Parang 28 Rt/RW 02/04 Babadan Balegondo Kec. Ngariboyo, Magetan', 89656429992], ['135161003', 'MEISYA VIOLETA SUNARGO', 'Jl. Apel 2 Blok B34/22, Pondok Makmur, Kutabaru', 81212720858], ['1111600043', 'JIHDANU RISDAN', 'BUMI PUSPIPTEK ASRI SEKTOR 4 RT/RW 02/07 NO.33 KELURAHAN SITUGADUNG KECAMATAN PAGEDANGAN', 81210098272], ['1141600044', 'KARIMAH', 'Bukit Pamulang Indah A 13 nomor 17 RT 007 RW 004, Pamulang timur', 85281653266], ['1151600084', 'HARUN', 'Kp Cibogo No.6 RT/RW 05/04 Ds.Cilaku Kec.Tenjo', 89607484181], ['1321600026', 'NANDAR', 'Kampung kelapa cikokol No. 16 RT. 002/03, kelurahan cikokol, kecamatan tangerang.', 89664737927], ['1321600027', 'NAFARIN AHADIYANTI', 'PERUM BUMI PUSPITEK ASRI SEKTOR 1 BLOK IAA NO.13 RT/RW 11/01 DESA.PAGEDANGAN KECAMATAN.PAGEDANGAN', 89602511385], ['1611000136', 'MUHAMAD HIFDZI MUZAKKI', 'Cikawung RT 06 RT 01, Pekuncen, Banyumas', 85747753103], ['1611000137', 'SITI MARDIAH', 'Dusun Cieunteung Rt 02 Rw 02 Cieunteung Darmaraja', 83816385378], ['1611000138', 'SUNARTO', 'Desa Muroharjo RT 06 Rw 02 Muroharjo Kunduran', 8988657547], ['1611000139', 'NADIRAH', 'JL. KOBER ULU NO. 04 RT/RW 005/009 KELURAHAN: RAWA BUNGA, KECAMATAN: JATINEGARA', 81908281944], ['1611000140', 'MUSTAFIDUL HIDAYAT', 'Sidadadi, RT04/05, Bulaksari, Bantarsari, Cilacap, Jawa tengah, Indonesia.', 81575278191], ['1611000141', 'M. TEGUH NUANSAH', 'DESA : BRECONG, KEC :BULUSPESANTREN', 87732582309], ['1611000142', 'NIA RIZKI APRIANI', 'Dusun Pasirgaru,RT 02 RW 06 Desa Bojongsari Kecamatan Kedungreja Kabupaten Cilacap.', 87705100869], ['1611000143', 'TENTI SELY NOVIANTIKA', 'Banjaran kebok RT 03 RW 05 Bangsri', 85865043962], ['1611000144', 'ANISAH SABILLAH', 'DUKUH JOHO RT.001/RW.02 DESA KLOPOSAWIT, KECAMATAN BULUSPESANTREN, KAB.KEBUMEN, JAWA TENGAH', 89654543486], ['1611000145', 'MUHAMAD HENDI SUHENDI', 'kp bantar peutey tajur gg tanuijaya rt02/04 kota bogor bogor timur', 8891549538], ['1611000146', 'LUTFIATUAN FUADIAH', 'Lemahjaya RT 01/RW 05 , Wanadadi, Banjarnegara', 85870272402], ['1612000130', 'YUSTARI ANGGRAENI', 'desa drunten kulon blok kali kulon rt 02 rw 01 kecamatan gabus wetan', 82240916395], ['1612000131', \"DWI ULIN NI'MAH\", 'kopen,kaliabu,salaman,magelang', 81328154358], ['1612000132', 'MUHAMMAD ASNAWI KHOLIL', 'rt 7/rw2 desa Gondanglegi ,Kec Ambal,Kab Kebumen,Jawa Tengah', 85701522217], ['1612000134', 'DANI AZKIYAK', 'Jlamprang RT 01/RW 03 Kec. Wonosobo', 81327234455], ['1612000135', 'AFLAKULLOH AL MUWAFFAQ', 'Gedongan Rt 02 Rw 02 Kecandran.Sidomukti.Salatiga', 85869392099], ['1612000137', 'SUKMA WAHYU HIDAYAT', 'jalan margahayu raya no 42', 85287562505], ['1612000139', 'ANGGRAENI KUSUMADEWI', 'Sambeng kulon RT 01/ RW 02, kec. Kembaran, Banyumas', 85747149188], ['1612000140', \"LIYA ULFATUS SA'IDAH\", 'Tengguli Rt 02 Rw 13 bangsri', 85310766005], ['1614000025', 'NURUL AKBAR TANJUNG', 'Jompo Rt 01 Rw 01 Kecamatan Kalimanah Kabupaten Purbalingga 53371', 85725381676], ['1682041001', 'GRACE NATALIA KAREN HAPUKH', 'Jalan Kerja Bakti No.42 Rt.10 Rw.04 Kelurahan: Kampung Makasar Kecamatan: Kampung Makasar, Kota: Jakarta Timur Kode pos: 13570', 85217517420], ['1682041002', 'DANA DWI LESTARI PUTRI', 'Komplek kodam,jl.infantri blok g-20.rt 05/rw 06.kelurahan cipinang melayu,kecamatan makasar', 88210757321], ['1687141001', 'ASTRI KHAIRUN NISA', 'Jl. Manunggal II rt 03 rw 04 no 34 kampung rambutan ciracas jakarta timur, kode pos 13830', 87779303511], ['2016102908', 'YOVI FRIANGGA', 'JL. H. OYAR NO. 56B RT002/RW004 KEL. PEGANGSAAN DUA KEC. KELAPA GADING JAKARTA UTARA 14250', 81932953138], ['2016102910', 'ROMARIO', 'Jl. Kebon Bawang No 7A RT03/RW07 Kelurahan Kebon Bawang Kecamatan Tanjung Priok', 82114631958], ['2016102960', 'ROSA MARIA ANJELINA DHONE', 'jalan gatot subroto', 85319443649], ['2016102965', 'ENO MARIA YOHANA ANDRIANI', 'Jl. SUPRAPTO, RT 001 RW 001, Kelurahan Tanalodu, Kecamatan Bajawa', 82359579512], ['2016102966', 'MARIA ANTONINA A POLU', 'Rakalaba RT007/RW002 Kel.Rakalaba Kec.Golewa Barat', 85337266019], ['2160036', 'METRI ROSA ARISANDI', 'PERUM. BUMI YAPEMAS INDAH BLOK A 2 NO.6 RT07/09 TAMBUN SELATAN', 89677078348], ['2160037', 'LUTFIA NUR OCTAVIANI', 'JL. SAWO KECIK 1 RT/RW 001/07 NO 60', 89657537170], ['2160061', 'NENG YULIAWATI', 'Jl. GG Eddy Rt 006/Rw 006 Kel. Guntur Kec. Setiabudi Jakarta Selatan', 83814565127], ['3150056', 'DINDA STEVANY MUHEA', 'JL. CEMPAKA PUTIH TIMUR NO. XVII RT 003/003 KEL. CEMPAKA PUTIH TIMUR KEC. CEMPAKA PUTIH', 82298686217], ['3160043', 'DINI IMBAR SARI', 'JL. PERINTIS KEMERDEKAAN KAMP. PEDONGKELAN RT/RW 04/015 KEL . KAYU PUTIH KEC. PULO GADUNG', 89619109869], ['3160054', 'NUR ANISA', 'JL. RAWA TENGAH NO.21 RT/RW 003/004 KEL .GALUR KEC . JOHAR BARU', 83806317643], ['3160078', 'CELLIN PRISELLIA GABRIELA W', 'LINGKUNGAN I RT/RW 002/001', 81267492168], ['3160079', 'NOVITA ROSALINA', 'JL. KAWI KAWI ATAS RT/RW 001/007', 89636933194], ['3160080', 'REZKY PRATAMA', 'JL. TEGUH VIII NO.2 RT 09/001 KEL. KELAPA GADING BARAT KEC. KELAPA GADING', 89660537959], ['3160164', 'RINA ANANDA MAHARANI', 'jln. Rawa Kuning gg. Galur rt 004 rw 016 Kelurahan pulogebang kecamatan cakung, jakarta timur', 8992906579], ['3160165', 'JENNI NURHAITI', 'jalan. pule RT 017 RW 09 kel.Ciracas kec.Ciracas JAKARTA TIMUR', 81218819688], ['3160173', 'ANNISA HANIFAH', 'Jl. Pulo nangka barat II Rt 003/016 No 15 Kelurahan Kayu Putih Kecamatan Pulogadung', 83870751434], ['4160028', 'SENI HELMI', 'JL. DHARMA PRAJA', 81254508591], ['4160032', 'RACHER TIMOTIUS ROTINSULU', 'Jl Damar XI Blok D No 88 Rt 4/5 Pekayon Jaya', 87888135222], ['CA116111083', 'KEVIN RAMADHAN SAGALA', 'Jl. Suluk Kel. Mutiara', 82167322733], ['CA116111085', 'RAOUL FAUZI AKBAR', 'Gang. Musholla Nurul Anwar, No.9 B RT,001/RW006 Kec. Makasar, Kel. Makasar, Jakarta Timur', 83883255057], ['CA116111094', 'FAKHRI MUHAMMAD', 'Jl. Sei Silau LK. VI Kelurahan Tebing Kisaran Kec. Kota Kisaran Barat', 82277455757], ['CA116111095', 'WAHYU ANGGRAINI', 'Kp. Malaka I Rt.001/Rw.012 No.45 Kel. Rorotan, Kec. Cilincing, Jakarta Utara', 83895869916], ['CA216111018', 'RICA DWI RAHMAWATI', 'JL.SIAGA 12 KP.BUGIS RT.011 RW.03 N0.23C CEMPAKA BARU KEMAYORAN JAKARTA PUSAT DKI JAKARTA', 83890877850], ['CB016111059', 'FIKRI MAULANA', 'Desa. Puncel, RT.3/II Kec. Dukuhseti Kab. Pati, Jawa Tengah', 82225837146], (1, 12160013, 'ANNISA PERTIWI', 'Jl. Dakota IV RT. 005/08 No. 15 - Kec. Kemayoran Kelurahan Kebon Kosong', 2147483647), (2, 12160307, 'LANI PARLINA', 'Jl. Nelayan Timur RT. 007/008 No.6A Kelurahan Pinangsia - Kec. Taman Sari', 2147483647), (3, 14160412, 'IRENE SAPHIRA', 'Jl. Rajawali SLT I - RT.015/002 Gunung Saharai Utara Sawah Besar', 2147483647), (4, 14160447, 'VERA SORAYA', 'Jl. Kali Anyar X Gang V - RT. 006/06 No. 8 Kelurahan Kalianyar - Kec. Tambora', 2147483647), (5, 14160449, 'AYUMI TAMBUNAN', 'Jl. Cempaka 1 Blok T-27 No.1-A RT.001/030 Kel. Teluk Pulung - Bekasi Utara', 2147483647), (6, 14160450, 'FREDRIK MOSES YOHANES SANAKY', 'Jl. Lambok V No. 103 - RT.002/007 Cibodasari', 2147483647), (7, 11170184, 'DEVI NATASIA', 'Jln. Pademangan Timur 7 Gg. 37 No. 8 RT.005 / 010', 2147483647), (8, 11170185, 'VANESSA', 'Bantar Kawung Kel. Nagasari RT. 002/005', 2147483647), (9, 14170316, 'MERLINE HUANGCY', 'Jl. Krendang Barat No. 1B RT. 11 RW 04', 2147483647), (10, 14170318, 'ALICIA', 'Jl. Ancol Selatan RT. 019/001 No. 75 Tanjung Priok', 2147483647), (11, 14170324, 'PUTRI RAMADANIAR', 'Jln. Swadarma Raya, Mairin RT. 009 / 003 No. 68 Ulujami - Pesanggrahan', 2147483647), (12, 14170348, 'CHRISTI YULITA', 'Jln. Setia Kawan No. 12 Pamulang Barat', 2147483647), (13, 2147483647, 'ULYA QISTI RACHMANI', 'Jl. Centex Gg. Mebel RT.03/03 No. 51', 2147483647), (14, 2147483647, 'ANDRE PRANOWO', 'Jl. Sekasih Gg. Mushollah RT.05/09 Kel. Tanah Baru Kec. Beji', 2147483647), (15, 2147483647, 'ABHI SENO MONIZAR', 'JL, FATAHILLAH II RT.04/09 KEL. TANAH BARU DEPOK', 2147483647), (16, 2147483647, 'MAWAR AHMALIA FAUZIAH', 'Jl. Citatah Dalam RT.06/13 Kel. Ciriung Kec.Cibinong', 2147483647), (17, 1161001069, 'AFIQOH NUR SOFIARNI', 'Jalan Sulawesi No 68 Kel. Bendan Kergon Kec. Pekalongan Barat RT/RW : 06/16', 2147483647), (18, 1161002046, 'YULIAWANTI GINARIS', 'Jl. Cibubur Bulak Ringin 4 No 129 RT 7 RW 3', 2147483647), (19, 1161002047, 'RINA KARLINA', 'Jl. Sesama, Gg. H. Dalim, Pulo Gadung RT 013 RW 001, Kelurahan Pulo Gadung, Kecamatan Pulo Gadung Jakarta Timur Kode Pos 13260', 2147483647), (20, 1161003239, 'WINALDA TUZZAHRA HERWINAWAWI', 'Jl.Duri Selatan VI Dalam Rt.08/06 Tambora', 2147483647), (21, 1161003240, 'MARLIANI DEVITA', 'Jl. Kembang Beji No. 34 RT/RW 004/013 Kel. Beji, Kec. Beji', 2147483647), (22, 1161003241, 'MILA MINCHATUL MAULA', 'blok.cilet ds.karanganyar kec.kandanghaur kab.indramayu rt/rw 01/08 kode pos 45254', 2147483647), (23, 1162004022, 'JAKA PURNAMA', 'jalan lintas sumatra talang baru desa bumi nabung kec. abung barat rt/rw 003/001', 2147483647), (24, 1162004023, 'NOLA WAHDINI FAJRIANI', 'Griya Bukit Jaya Gn. Putri Bogor', 2147483647), (25, 16102142, 'DINAR SEKAR SEMESTA', 'JALAN MENTENG ATAS SELATAN I RT005/012 NO 16 ,KELURAHAN MENTENG ATAS ,KECAMATAN SETIABUDI, KODE POS 12960', 2147483647), (26, 16102173, 'ALMA SUCI PUTRI. A', 'Jln.tanjung panginpuan no.17 palu kecamatan palu selatan kelurahan tatura utara', 2147483647), (27, 16102177, 'RISKA BELLA PERMATASARI', 'Jl. Kemang-Parung Gg.PWRI Komp. Permatasari Blok A2 No.08', 2147483647), (28, 16103020, 'FUJIKA LESTARI', 'Desa Gunung Besar, Kecamatan Arma Jaya, Bengkulu Utara.', 2147483647), (29, 16103022, 'DEVI RATNADILLA', 'DESA.RAMBATAN KULON RT.22 RW.03 BLOK.NINGKONG KEC.LOHBENER KAB.INDRAMAYU', 2147483647), (30, 16104012, 'EVA SORAYA', 'Jl. Waru Gg. Molen Rt8/3 Kel. Gedong Kec. Pasar Rebo Jakarta Timur', 2147483647), (31, 16104013, 'FITRI YANI', 'Jl. Pratu M.Yusuf, samping kantor pos lama Rt.03/01 Lk.03 Kel kalianda', 2147483647), (32, 16104014, 'ABDINA WAHYUDI', 'ds.waru blok.lor rt:11 rw:03 kecamatan:lohbener kebupaten:indramayu', 2147483647), (33, 16105031, 'CITRA DELIMA', 'Perum Mayang Pratama Blok B 3 No 106 Rt 03 / Rw 08 Kelurahan Mustika sari Kecamatan Mustika Jaya Bekasi', 2147483647), (34, 16105032, 'DESTIAR RAMADHANTIE. S', 'Perumahan Bojong Depok Baru II Blok I.H No 5D Rt 09/17 Kel.Sukahati Kec.Cibinong Bogor', 2147483647), (35, 16105033, 'INTAN PERMATA DEWI', 'jalan bulak tinggi no.2 rt08 rw016 kelurahan jatirahayu kecamatan pondok melati', 2147483647), (36, 16105035, 'NENENG RAHMIATI', 'Kp petukangan rt 012/04 Rawa Terate,Cakung,Jaktim', 2147483647), (37, 16105036, 'PAMILA KHANSA', 'Jl.Mawar Rt 017 Rw 09 No 28. Kelurahan: Kelapa dua wetan, Kecamatan: Ciracas', 2147483647), (38, 16105037, 'RISTAK FAIDATUN NISAK', 'KAMPUNG GUSTI KB PALA RT/RW 010/014 kelurahan pejagalan kecamatan penjaringan', 2147483647), (39, 16105038, 'SAHABUDIN LETSOIN', 'dusun fair rt 03 tual pulau dullah selatan', 2147483647), (40, 16105039, 'WAHYU DWI TRIYANI', 'rt 001 rw 003 kam.moris jaya, kec.banjar agung, kab.tulang bawang', 2147483647), (41, 16106023, 'MEITIARA NANDA HERISETIANIS', 'Jl.Juned no.3 Rt 04.Rw 02,Karanganyar', 2147483647), (42, 16108033, 'CARISSA SOTIA', 'Jalan Manunggal Bakti Rt.011 Rw.011 No.25, Kelurahan Kalisari, Kecamatan Pasar Rebo', 2147483647), (43, 16109022, 'MARWAH ANISYA', 'kp.ciheuleut rt05/06 kelurahan cibuluh kecamatan bogor utara', 2147483647), (44, 16117048, 'SUCI LIHUNA YANTO', 'Jl. H. Kamad No. 39 RT/003 RW/003 Kel: Pondok Bambu Kec: Duren Sawit', 2147483647), (45, 131161001, 'NI LUH EVA ARDONIS', 'Jl. Sidakarya, Banjar Dinas Kubu, Desa Kubu, Kecamatan Kubu', 2147483647), (46, 133161001, 'MADE AGUS FEBRI SETIAWAN', 'Jalan Imam Bonjol No.36, Singaraja.', 2147483647), (47, 135161001, 'PUTU AYU KRISNA PRATIWI', 'Jalan Rajawali gang V no 31B Negara, Bali', 2147483647), (48, 135161002, 'ALFIENA PUJI KUSUMA DEWANTI', 'Jl. Raya Magetan Parang 28 Rt/RW 02/04 Babadan Balegondo Kec. Ngariboyo, Magetan', 2147483647), (49, 135161003, 'MEISYA VIOLETA SUNARGO', 'Jl. Apel 2 Blok B34/22, Pondok Makmur, Kutabaru', 2147483647), (50, 1111600043, 'JIHDANU RISDAN', 'BUMI PUSPIPTEK ASRI SEKTOR 4 RT/RW 02/07 NO.33 KELURAHAN SITUGADUNG KECAMATAN PAGEDANGAN', 2147483647), (51, 1141600044, 'KARIMAH', 'Bukit Pamulang Indah A 13 nomor 17 RT 007 RW 004, Pamulang timur', 2147483647), (52, 1151600084, 'HARUN', 'Kp Cibogo No.6 RT/RW 05/04 Ds.Cilaku Kec.Tenjo', 2147483647), (53, 1321600026, 'NANDAR', 'Kampung kelapa cikokol No. 16 RT. 002/03, kelurahan cikokol, kecamatan tangerang.', 2147483647), (54, 1321600027, 'NAFARIN AHADIYANTI', 'PERUM BUMI PUSPITEK ASRI SEKTOR 1 BLOK IAA NO.13 RT/RW 11/01 DESA.PAGEDANGAN KECAMATAN.PAGEDANGAN', 2147483647), (55, 1611000136, 'MUHAMAD HIFDZI MUZAKKI', 'Cikawung RT 06 RT 01, Pekuncen, Banyumas', 2147483647), (56, 1611000137, 'SITI MARDIAH', 'Dusun Cieunteung Rt 02 Rw 02 Cieunteung Darmaraja', 2147483647), (57, 1611000138, 'SUNARTO', 'Desa Muroharjo RT 06 Rw 02 Muroharjo Kunduran', 2147483647), (58, 1611000139, 'NADIRAH', 'JL. KOBER ULU NO. 04 RT/RW 005/009 KELURAHAN: RAWA BUNGA, KECAMATAN: JATINEGARA', 2147483647), (59, 1611000140, 'MUSTAFIDUL HIDAYAT', 'Sidadadi, RT04/05, Bulaksari, Bantarsari, Cilacap, Jawa tengah, Indonesia.', 2147483647), (60, 1611000141, 'M. TEGUH NUANSAH', 'DESA : BRECONG, KEC :BULUSPESANTREN', 2147483647), (61, 1611000142, 'NIA RIZKI APRIANI', 'Dusun Pasirgaru,RT 02 RW 06 Desa Bojongsari Kecamatan Kedungreja Kabupaten Cilacap.', 2147483647), (62, 1611000143, 'TENTI SELY NOVIANTIKA', 'Banjaran kebok RT 03 RW 05 Bangsri', 2147483647), (63, 1611000144, 'ANISAH SABILLAH', 'DUKUH JOHO RT.001/RW.02 DESA KLOPOSAWIT, KECAMATAN BULUSPESANTREN, KAB.KEBUMEN, JAWA TENGAH', 2147483647), (64, 1611000145, 'MUHAMAD HENDI SUHENDI', 'kp bantar peutey tajur gg tanuijaya rt02/04 kota bogor bogor timur', 2147483647), (65, 1611000146, 'LUTFIATUAN FUADIAH', 'Lemahjaya RT 01/RW 05 , Wanadadi, Banjarnegara', 2147483647), (66, 1612000130, 'YUSTARI ANGGRAENI', 'desa drunten kulon blok kali kulon rt 02 rw 01 kecamatan gabus wetan', 2147483647), (67, 1612000131, 'DWI ULIN NIMAH', 'kopen,kaliabu,salaman,magelang', 2147483647), (68, 1612000132, 'MUHAMMAD ASNAWI KHOLIL', 'rt 7/rw2 desa Gondanglegi ,Kec Ambal,Kab Kebumen,Jawa Tengah', 2147483647), (69, 1612000134, 'DANI AZKIYAK', 'Jlamprang RT 01/RW 03 Kec. Wonosobo', 2147483647), (70, 1612000135, 'AFLAKULLOH AL MUWAFFAQ', 'Gedongan Rt 02 Rw 02 Kecandran.Sidomukti.Salatiga', 2147483647), (71, 1612000137, 'SUKMA WAHYU HIDAYAT', 'jalan margahayu raya no 42', 2147483647), (72, 1612000139, 'ANGGRAENI KUSUMADEWI', 'Sambeng kulon RT 01/ RW 02, kec. Kembaran, Banyumas', 2147483647), (73, 1612000140, 'LIYA ULFATUS SAIDAH', 'Tengguli Rt 02 Rw 13 bangsri', 2147483647), (74, 1614000025, 'NURUL AKBAR TANJUNG', 'Jompo Rt 01 Rw 01 Kecamatan Kalimanah Kabupaten Purbalingga 53371', 2147483647), (75, 1682041001, 'GRACE NATALIA KAREN HAPUKH', 'Jalan Kerja Bakti No.42 Rt.10 Rw.04 Kelurahan: Kampung Makasar Kecamatan: Kampung Makasar, Kota: Jakarta Timur Kode pos: 13570', 2147483647), (76, 1682041002, 'DANA DWI LESTARI PUTRI', 'Komplek kodam,jl.infantri blok g-20.rt 05/rw 06.kelurahan cipinang melayu,kecamatan makasar', 2147483647), (77, 1687141001, 'ASTRI KHAIRUN NISA', 'Jl. Manunggal II rt 03 rw 04 no 34 kampung rambutan ciracas jakarta timur, kode pos 13830', 2147483647), (78, 2016102908, 'YOVI FRIANGGA', 'JL. H. OYAR NO. 56B RT002/RW004 KEL. PEGANGSAAN DUA KEC. KELAPA GADING JAKARTA UTARA 14250', 2147483647), (79, 2016102910, 'ROMARIO', 'Jl. Kebon Bawang No 7A RT03/RW07 Kelurahan Kebon Bawang Kecamatan Tanjung Priok', 2147483647), (80, 2016102960, 'ROSA MARIA ANJELINA DHONE', 'jalan gatot subroto', 2147483647), (81, 2016102965, 'ENO MARIA YOHANA ANDRIANI', 'Jl. SUPRAPTO, RT 001 RW 001, Kelurahan Tanalodu, Kecamatan Bajawa', 2147483647), (82, 2016102966, 'MARIA ANTONINA A POLU', 'Rakalaba RT007/RW002 Kel.Rakalaba Kec.Golewa Barat', 2147483647), (83, 2160036, 'METRI ROSA ARISANDI', 'PERUM. BUMI YAPEMAS INDAH BLOK A 2 NO.6 RT07/09 TAMBUN SELATAN', 2147483647), (84, 2160037, 'LUTFIA NUR OCTAVIANI', 'JL. SAWO KECIK 1 RT/RW 001/07 NO 60', 2147483647), (85, 2160061, 'NENG YULIAWATI', 'Jl. GG Eddy Rt 006/Rw 006 Kel. Guntur Kec. Setiabudi Jakarta Selatan', 2147483647), (86, 3150056, 'DINDA STEVANY MUHEA', 'JL. CEMPAKA PUTIH TIMUR NO. XVII RT 003/003 KEL. CEMPAKA PUTIH TIMUR KEC. CEMPAKA PUTIH', 2147483647), (87, 3160043, 'DINI IMBAR SARI', 'JL. PERINTIS KEMERDEKAAN KAMP. PEDONGKELAN RT/RW 04/015 KEL . KAYU PUTIH KEC. PULO GADUNG', 2147483647), (88, 3160054, 'NUR ANISA', 'JL. RAWA TENGAH NO.21 RT/RW 003/004 KEL .GALUR KEC . JOHAR BARU', 2147483647), (89, 3160078, 'CELLIN PRISELLIA GABRIELA W', 'LINGKUNGAN I RT/RW 002/001', 2147483647), (90, 3160079, 'NOVITA ROSALINA', 'JL. KAWI KAWI ATAS RT/RW 001/007', 2147483647), (91, 3160080, 'REZKY PRATAMA', 'JL. TEGUH VIII NO.2 RT 09/001 KEL. KELAPA GADING BARAT KEC. KELAPA GADING', 2147483647), (92, 3160164, 'RINA ANANDA MAHARANI', 'jln. Rawa Kuning gg. Galur rt 004 rw 016 Kelurahan pulogebang kecamatan cakung, jakarta timur', 2147483647), (93, 3160165, 'JENNI NURHAITI', 'jalan. pule RT 017 RW 09 kel.Ciracas kec.Ciracas JAKARTA TIMUR', 2147483647), (94, 3160173, 'ANNISA HANIFAH', 'Jl. Pulo nangka barat II Rt 003/016 No 15 Kelurahan Kayu Putih Kecamatan Pulogadung', 2147483647), (95, 4160028, 'SENI HELMI', 'JL. DHARMA PRAJA', 2147483647), (96, 4160032, 'RACHER TIMOTIUS ROTINSULU', 'Jl Damar XI Blok D No 88 Rt 4/5 Pekayon Jaya', 2147483647), (97, 0, 'KEVIN RAMADHAN SAGALA', 'Jl. Suluk Kel. Mutiara', 2147483647), (98, 0, 'RAOUL FAUZI AKBAR', 'Gang. Musholla Nurul Anwar, No.9 B RT,001/RW006 Kec. Makasar, Kel. Makasar, Jakarta Timur', 2147483647), (99, 0, 'FAKHRI MUHAMMAD', 'Jl. Sei Silau LK. VI Kelurahan Tebing Kisaran Kec. Kota Kisaran Barat', 2147483647), (100, 0, 'WAHYU ANGGRAINI', 'Kp. Malaka I Rt.001/Rw.012 No.45 Kel. Rorotan, Kec. Cilincing, Jakarta Utara', 2147483647), (101, 0, 'RICA DWI RAHMAWATI', 'JL.SIAGA 12 KP.BUGIS RT.011 RW.03 N0.23C CEMPAKA BARU KEMAYORAN JAKARTA PUSAT DKI JAKARTA', 2147483647), (102, 0, 'FIKRI MAULANA', 'Desa. Puncel, RT.3/II Kec. Dukuhseti Kab. Pati, Jawa Tengah', 2147483647)]\n",
      "------------------------------------------------------------------------------------------------------------------------\n"
     ]
    }
   ],
   "source": [
    "cursor.execute(\"SELECT * FROM MAHASISWA\")\n",
    "\n",
    "for row in cursor.fetchall():\n",
    "    mahasiswa.append(row)\n",
    "print(\"                                                    - DATA MAHASISWA -                                    \")\n",
    "print(mahasiswa)\n",
    "print(\"------------------------------------------------------------------------------------------------------------------------\")"
   ]
  },
  {
   "cell_type": "code",
   "execution_count": 21,
   "metadata": {
    "scrolled": true
   },
   "outputs": [],
   "source": [
    "cursor.execute(\"delete from data_mhs\")\n",
    "for i,j in enumerate(data_mhs):\n",
    "    cursor.execute(\"INSERT INTO DATA_MHS VALUES(\" + str(i+1) + \", '\" + str(j[0]) + \"',\" + str(j[1]) + \",\" + str(j[2]) + \",\" + str(j[3]) + \")\")\n",
    "    db.commit\n",
    "#  print(\"INSERT INTO DATA_MHS VALUES(\" + str(i+1) + \", '\" + str(j[0]) + \"',\" + str(j[1]) + \",\" + str(j[2]) + \",\" + str(j[3]) + \")\")"
   ]
  },
  {
   "cell_type": "code",
   "execution_count": 22,
   "metadata": {},
   "outputs": [
    {
     "name": "stdout",
     "output_type": "stream",
     "text": [
      "                                           - LIST DATA -                                    \n",
      "[[7, 3.25, 1, 1], [9, 2.91, 1, 2], [7, 2.64, 1, 3], [8, 3.26, 1, 4], [7, 3.52, 1, 5], [7, 3.14, 1, 6], [7, 3.58, 1, 7], [8, 2.5, 1, 8], [8, 3.33, 1, 9], [8, 2.89, 1, 10], [9, 3.32, 1, 11], [7, 3.15, 1, 12], [7, 3.16, 2, 13], [7, 2.94, 2, 14], [10, 1.33, 2, 15], [7, 3.4, 2, 16], [8, 3.7, 3, 17], [8, 3.74, 3, 18], [8, 3.2, 3, 19], [8, 3.6, 3, 20], [8, 3.34, 3, 21], [8, 3.26, 3, 22], [7, 3.16, 3, 23], [7, 3.33, 3, 24], [9, 3.39, 4, 25], [10, 2.86, 4, 26], [7, 3.51, 4, 27], [7, 3.59, 4, 28], [7, 3.28, 4, 29], [8, 3.23, 4, 30], [8, 3.8, 4, 31], [8, 3.17, 4, 32], [7, 3.66, 4, 33], [8, 3.66, 4, 34], [7, 3.7, 4, 35], [7, 3.44, 4, 36], [7, 3.71, 4, 37], [7, 3.62, 4, 38], [7, 3.56, 4, 39], [7, 3.27, 4, 40], [8, 3.3, 4, 41], [8, 3.55, 4, 42], [7, 3.44, 4, 43], [7, 3.91, 4, 44], [10, 3.11, 5, 45], [7, 3.22, 5, 46], [8, 3.5, 5, 47], [7, 3.7, 5, 48], [8, 3.29, 5, 49], [7, 3.38, 6, 50], [7, 3.62, 6, 51], [7, 3.35, 6, 52], [8, 3.49, 6, 53], [8, 2.79, 6, 54], [8, 3.31, 7, 55], [7, 3.84, 7, 56], [7, 3.63, 7, 57], [7, 3.78, 7, 58], [8, 3.6, 7, 59], [8, 3.48, 7, 60], [8, 3.51, 7, 61], [8, 3.33, 7, 62], [7, 3.68, 7, 63], [7, 3.48, 7, 64], [7, 3.37, 7, 65], [7, 3.42, 7, 66], [7, 3.53, 7, 67], [8, 3.26, 7, 68], [7, 3.75, 7, 69], [8, 3.55, 7, 70], [8, 3.14, 7, 71], [8, 3.62, 7, 72], [7, 3.33, 7, 73], [7, 3.64, 7, 74], [9, 3.54, 8, 75], [9, 3.41, 8, 76], [7, 3.62, 8, 77], [7, 3.0, 9, 78], [7, 2.76, 9, 79], [10, 3.31, 9, 80], [10, 3.3, 9, 81], [7, 3.28, 9, 82], [8, 3.64, 10, 83], [7, 3.78, 10, 84], [7, 3.67, 10, 85], [9, 3.58, 10, 86], [7, 2.97, 10, 87], [8, 3.66, 10, 88], [8, 3.48, 10, 89], [7, 3.63, 10, 90], [8, 3.38, 10, 91], [7, 3.87, 10, 92], [7, 3.22, 10, 93], [10, 3.38, 10, 94], [7, 3.7, 10, 95], [9, 2.94, 10, 96], [7, 3.48, 11, 97], [9, 3.1, 11, 98], [7, 3.71, 11, 99], [8, 3.98, 11, 100], [7, 3.83, 11, 101], [7, 3.24, 11, 102], (1, 7, 3, 1, 1), (2, 9, 3, 1, 2), (3, 7, 3, 1, 3), (4, 8, 3, 1, 4), (5, 7, 4, 1, 5), (6, 7, 3, 1, 6), (7, 7, 4, 1, 7), (8, 8, 3, 1, 8), (9, 8, 3, 1, 9), (10, 8, 3, 1, 10), (11, 9, 3, 1, 11), (12, 7, 3, 1, 12), (13, 7, 3, 2, 13), (14, 7, 3, 2, 14), (15, 10, 1, 2, 15), (16, 7, 3, 2, 16), (17, 8, 4, 3, 17), (18, 8, 4, 3, 18), (19, 8, 3, 3, 19), (20, 8, 4, 3, 20), (21, 8, 3, 3, 21), (22, 8, 3, 3, 22), (23, 7, 3, 3, 23), (24, 7, 3, 3, 24), (25, 9, 3, 4, 25), (26, 10, 3, 4, 26), (27, 7, 4, 4, 27), (28, 7, 4, 4, 28), (29, 7, 3, 4, 29), (30, 8, 3, 4, 30), (31, 8, 4, 4, 31), (32, 8, 3, 4, 32), (33, 7, 4, 4, 33), (34, 8, 4, 4, 34), (35, 7, 4, 4, 35), (36, 7, 3, 4, 36), (37, 7, 4, 4, 37), (38, 7, 4, 4, 38), (39, 7, 4, 4, 39), (40, 7, 3, 4, 40), (41, 8, 3, 4, 41), (42, 8, 4, 4, 42), (43, 7, 3, 4, 43), (44, 7, 4, 4, 44), (45, 10, 3, 5, 45), (46, 7, 3, 5, 46), (47, 8, 4, 5, 47), (48, 7, 4, 5, 48), (49, 8, 3, 5, 49), (50, 7, 3, 6, 50), (51, 7, 4, 6, 51), (52, 7, 3, 6, 52), (53, 8, 3, 6, 53), (54, 8, 3, 6, 54), (55, 8, 3, 7, 55), (56, 7, 4, 7, 56), (57, 7, 4, 7, 57), (58, 7, 4, 7, 58), (59, 8, 4, 7, 59), (60, 8, 3, 7, 60), (61, 8, 4, 7, 61), (62, 8, 3, 7, 62), (63, 7, 4, 7, 63), (64, 7, 3, 7, 64), (65, 7, 3, 7, 65), (66, 7, 3, 7, 66), (67, 7, 4, 7, 67), (68, 8, 3, 7, 68), (69, 7, 4, 7, 69), (70, 8, 4, 7, 70), (71, 8, 3, 7, 71), (72, 8, 4, 7, 72), (73, 7, 3, 7, 73), (74, 7, 4, 7, 74), (75, 9, 4, 8, 75), (76, 9, 3, 8, 76), (77, 7, 4, 8, 77), (78, 7, 3, 9, 78), (79, 7, 3, 9, 79), (80, 10, 3, 9, 80), (81, 10, 3, 9, 81), (82, 7, 3, 9, 82), (83, 8, 4, 10, 83), (84, 7, 4, 10, 84), (85, 7, 4, 10, 85), (86, 9, 4, 10, 86), (87, 7, 3, 10, 87), (88, 8, 4, 10, 88), (89, 8, 3, 10, 89), (90, 7, 4, 10, 90), (91, 8, 3, 10, 91), (92, 7, 4, 10, 92), (93, 7, 3, 10, 93), (94, 10, 3, 10, 94), (95, 7, 4, 10, 95), (96, 9, 3, 10, 96), (97, 7, 3, 11, 97), (98, 9, 3, 11, 98), (99, 7, 4, 11, 99), (100, 8, 4, 11, 100), (101, 7, 4, 11, 101), (102, 7, 3, 11, 102), (1, 7, 3, 1, 1), (2, 9, 3, 1, 2), (3, 7, 3, 1, 3), (4, 8, 3, 1, 4), (5, 7, 4, 1, 5), (6, 7, 3, 1, 6), (7, 7, 4, 1, 7), (8, 8, 3, 1, 8), (9, 8, 3, 1, 9), (10, 8, 3, 1, 10), (11, 9, 3, 1, 11), (12, 7, 3, 1, 12), (13, 7, 3, 2, 13), (14, 7, 3, 2, 14), (15, 10, 1, 2, 15), (16, 7, 3, 2, 16), (17, 8, 4, 3, 17), (18, 8, 4, 3, 18), (19, 8, 3, 3, 19), (20, 8, 4, 3, 20), (21, 8, 3, 3, 21), (22, 8, 3, 3, 22), (23, 7, 3, 3, 23), (24, 7, 3, 3, 24), (25, 9, 3, 4, 25), (26, 10, 3, 4, 26), (27, 7, 4, 4, 27), (28, 7, 4, 4, 28), (29, 7, 3, 4, 29), (30, 8, 3, 4, 30), (31, 8, 4, 4, 31), (32, 8, 3, 4, 32), (33, 7, 4, 4, 33), (34, 8, 4, 4, 34), (35, 7, 4, 4, 35), (36, 7, 3, 4, 36), (37, 7, 4, 4, 37), (38, 7, 4, 4, 38), (39, 7, 4, 4, 39), (40, 7, 3, 4, 40), (41, 8, 3, 4, 41), (42, 8, 4, 4, 42), (43, 7, 3, 4, 43), (44, 7, 4, 4, 44), (45, 10, 3, 5, 45), (46, 7, 3, 5, 46), (47, 8, 4, 5, 47), (48, 7, 4, 5, 48), (49, 8, 3, 5, 49), (50, 7, 3, 6, 50), (51, 7, 4, 6, 51), (52, 7, 3, 6, 52), (53, 8, 3, 6, 53), (54, 8, 3, 6, 54), (55, 8, 3, 7, 55), (56, 7, 4, 7, 56), (57, 7, 4, 7, 57), (58, 7, 4, 7, 58), (59, 8, 4, 7, 59), (60, 8, 3, 7, 60), (61, 8, 4, 7, 61), (62, 8, 3, 7, 62), (63, 7, 4, 7, 63), (64, 7, 3, 7, 64), (65, 7, 3, 7, 65), (66, 7, 3, 7, 66), (67, 7, 4, 7, 67), (68, 8, 3, 7, 68), (69, 7, 4, 7, 69), (70, 8, 4, 7, 70), (71, 8, 3, 7, 71), (72, 8, 4, 7, 72), (73, 7, 3, 7, 73), (74, 7, 4, 7, 74), (75, 9, 4, 8, 75), (76, 9, 3, 8, 76), (77, 7, 4, 8, 77), (78, 7, 3, 9, 78), (79, 7, 3, 9, 79), (80, 10, 3, 9, 80), (81, 10, 3, 9, 81), (82, 7, 3, 9, 82), (83, 8, 4, 10, 83), (84, 7, 4, 10, 84), (85, 7, 4, 10, 85), (86, 9, 4, 10, 86), (87, 7, 3, 10, 87), (88, 8, 4, 10, 88), (89, 8, 3, 10, 89), (90, 7, 4, 10, 90), (91, 8, 3, 10, 91), (92, 7, 4, 10, 92), (93, 7, 3, 10, 93), (94, 10, 3, 10, 94), (95, 7, 4, 10, 95), (96, 9, 3, 10, 96), (97, 7, 3, 11, 97), (98, 9, 3, 11, 98), (99, 7, 4, 11, 99), (100, 8, 4, 11, 100), (101, 7, 4, 11, 101), (102, 7, 3, 11, 102), (103, 1, 7, 3, 1), (104, 2, 9, 3, 1), (105, 3, 7, 3, 1), (106, 4, 8, 3, 1), (107, 5, 7, 4, 1), (108, 6, 7, 3, 1), (109, 7, 7, 4, 1), (110, 8, 8, 3, 1), (111, 9, 8, 3, 1), (112, 10, 8, 3, 1), (113, 11, 9, 3, 1), (114, 12, 7, 3, 1), (115, 13, 7, 3, 2), (116, 14, 7, 3, 2), (117, 15, 10, 1, 2), (118, 16, 7, 3, 2), (119, 17, 8, 4, 3), (120, 18, 8, 4, 3), (121, 19, 8, 3, 3), (122, 20, 8, 4, 3), (123, 21, 8, 3, 3), (124, 22, 8, 3, 3), (125, 23, 7, 3, 3), (126, 24, 7, 3, 3), (127, 25, 9, 3, 4), (128, 26, 10, 3, 4), (129, 27, 7, 4, 4), (130, 28, 7, 4, 4), (131, 29, 7, 3, 4), (132, 30, 8, 3, 4), (133, 31, 8, 4, 4), (134, 32, 8, 3, 4), (135, 33, 7, 4, 4), (136, 34, 8, 4, 4), (137, 35, 7, 4, 4), (138, 36, 7, 3, 4), (139, 37, 7, 4, 4), (140, 38, 7, 4, 4), (141, 39, 7, 4, 4), (142, 40, 7, 3, 4), (143, 41, 8, 3, 4), (144, 42, 8, 4, 4), (145, 43, 7, 3, 4), (146, 44, 7, 4, 4), (147, 45, 10, 3, 5), (148, 46, 7, 3, 5), (149, 47, 8, 4, 5), (150, 48, 7, 4, 5), (151, 49, 8, 3, 5), (152, 50, 7, 3, 6), (153, 51, 7, 4, 6), (154, 52, 7, 3, 6), (155, 53, 8, 3, 6), (156, 54, 8, 3, 6), (157, 55, 8, 3, 7), (158, 56, 7, 4, 7), (159, 57, 7, 4, 7), (160, 58, 7, 4, 7), (161, 59, 8, 4, 7), (162, 60, 8, 3, 7), (163, 61, 8, 4, 7), (164, 62, 8, 3, 7), (165, 63, 7, 4, 7), (166, 64, 7, 3, 7), (167, 65, 7, 3, 7), (168, 66, 7, 3, 7), (169, 67, 7, 4, 7), (170, 68, 8, 3, 7), (171, 69, 7, 4, 7), (172, 70, 8, 4, 7), (173, 71, 8, 3, 7), (174, 72, 8, 4, 7), (175, 73, 7, 3, 7), (176, 74, 7, 4, 7), (177, 75, 9, 4, 8), (178, 76, 9, 3, 8), (179, 77, 7, 4, 8), (180, 78, 7, 3, 9), (181, 79, 7, 3, 9), (182, 80, 10, 3, 9), (183, 81, 10, 3, 9), (184, 82, 7, 3, 9), (185, 83, 8, 4, 10), (186, 84, 7, 4, 10), (187, 85, 7, 4, 10), (188, 86, 9, 4, 10), (189, 87, 7, 3, 10), (190, 88, 8, 4, 10), (191, 89, 8, 3, 10), (192, 90, 7, 4, 10), (193, 91, 8, 3, 10), (194, 92, 7, 4, 10), (195, 93, 7, 3, 10), (196, 94, 10, 3, 10), (197, 95, 7, 4, 10), (198, 96, 9, 3, 10), (199, 97, 7, 3, 11), (200, 98, 9, 3, 11), (201, 99, 7, 4, 11), (202, 100, 8, 4, 11), (203, 101, 7, 4, 11), (204, 102, 7, 3, 11)]\n",
      "------------------------------------------------------------------------------------------------------------------------\n"
     ]
    }
   ],
   "source": [
    "cursor.execute(\"SELECT * FROM DATA_MHS\")\n",
    "\n",
    "for row in cursor.fetchall():\n",
    "    data_mhs.append(row)\n",
    "print(\"                                           - LIST DATA -                                    \")\n",
    "print(data_mhs)\n",
    "print(\"------------------------------------------------------------------------------------------------------------------------\")"
   ]
  },
  {
   "cell_type": "code",
   "execution_count": null,
   "metadata": {},
   "outputs": [],
   "source": []
  }
 ],
 "metadata": {
  "kernelspec": {
   "display_name": "Python 3",
   "language": "python",
   "name": "python3"
  },
  "language_info": {
   "codemirror_mode": {
    "name": "ipython",
    "version": 3
   },
   "file_extension": ".py",
   "mimetype": "text/x-python",
   "name": "python",
   "nbconvert_exporter": "python",
   "pygments_lexer": "ipython3",
   "version": "3.8.5"
  }
 },
 "nbformat": 4,
 "nbformat_minor": 2
}
